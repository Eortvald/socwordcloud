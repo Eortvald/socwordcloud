{
 "cells": [
  {
   "cell_type": "markdown",
   "id": "0c45fbc9-d6e4-4ce2-a346-3b55016329fc",
   "metadata": {},
   "source": [
    "![The San Juan Mountains are beautiful!](gme.png)"
   ]
  }
 ],
 "metadata": {
  "kernelspec": {
   "display_name": "Python 3 (ipykernel)",
   "language": "python",
   "name": "python3"
  },
  "language_info": {
   "codemirror_mode": {
    "name": "ipython",
    "version": 3
   },
   "file_extension": ".py",
   "mimetype": "text/x-python",
   "name": "python",
   "nbconvert_exporter": "python",
   "pygments_lexer": "ipython3",
   "version": "3.9.10"
  }
 },
 "nbformat": 4,
 "nbformat_minor": 5
}
